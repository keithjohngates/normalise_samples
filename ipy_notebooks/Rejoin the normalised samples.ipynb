{
 "cells": [
  {
   "cell_type": "code",
   "execution_count": 14,
   "metadata": {},
   "outputs": [],
   "source": [
    "%matplotlib notebook\n",
    "import matplotlib as mpl\n",
    "mpl.rcParams['figure.figsize'] = [8, 8]\n",
    "\n",
    "import os\n",
    "import pickle\n",
    "import pandas as pd\n",
    "import geopandas as gpd\n",
    "import numpy as np\n",
    "\n",
    "data_fout = os.path.join(os.path.dirname(os.getcwd()), 'data_out')"
   ]
  },
  {
   "cell_type": "code",
   "execution_count": 15,
   "metadata": {},
   "outputs": [
    {
     "name": "stdout",
     "output_type": "stream",
     "text": [
      "0\n",
      "1\n",
      "2\n",
      "3\n",
      "4\n",
      "5\n",
      "6\n",
      "7\n"
     ]
    }
   ],
   "source": [
    "j_norm_samps = gpd.GeoDataFrame()\n",
    "\n",
    "for i in range(8):\n",
    "    print(i)\n",
    "    with open(os.path.join(data_fout, 'samples_buffered_normalised_4283_%d.pickle' % i), 'rb') as f:\n",
    "        normalised_samples = pickle.load(f)\n",
    "        j_norm_samps = gpd.GeoDataFrame(pd.concat([j_norm_samps, normalised_samples], ignore_index=True))\n",
    "\n",
    "j_norm_samps  = gpd.GeoDataFrame(j_norm_samps , geometry='Coordinates_4283', crs={'init' :'epsg:4283'})\n",
    "\n",
    "with open(os.path.join(data_fout, 'samples_buffered_normalised_4283.pickle'), 'wb') as f:\n",
    "    pickle.dump(j_norm_samps, f, pickle.HIGHEST_PROTOCOL)\n",
    "    \n",
    "# j_norm_samps.to_file(os.path.join(data_fout, 'samples_buffered_normalised_4283.geojson'), driver='GeoJSON')\n",
    "j_norm_samps.to_file(os.path.join(data_fout, 'samples_buffered_normalised_4283'))"
   ]
  },
  {
   "cell_type": "code",
   "execution_count": null,
   "metadata": {},
   "outputs": [],
   "source": []
  },
  {
   "cell_type": "code",
   "execution_count": 17,
   "metadata": {},
   "outputs": [
    {
     "name": "stdout",
     "output_type": "stream",
     "text": [
      "0\n",
      "1\n",
      "2\n",
      "3\n",
      "4\n",
      "5\n",
      "6\n",
      "7\n"
     ]
    }
   ],
   "source": [
    "j_norm_samps = gpd.GeoDataFrame()\n",
    "\n",
    "for i in range(8):\n",
    "    print(i)\n",
    "    with open(os.path.join(data_fout, 'samples_buffered_normalised_3112_%d.pickle' % i), 'rb') as f:\n",
    "        normalised_samples = pickle.load(f)\n",
    "        j_norm_samps = gpd.GeoDataFrame(pd.concat([j_norm_samps, normalised_samples], ignore_index=True))\n",
    "\n",
    "j_norm_samps  = gpd.GeoDataFrame(j_norm_samps , geometry='Coordinates_3112', crs={'init' :'epsg:3112'})\n",
    "\n",
    "with open(os.path.join(data_fout, 'samples_buffered_normalised_3112.pickle'), 'wb') as f:\n",
    "    pickle.dump(j_norm_samps, f, pickle.HIGHEST_PROTOCOL)\n",
    "    \n",
    "# j_norm_samps.to_file(os.path.join(data_fout, 'samples_buffered_normalised_3112.geojson'), driver='GeoJSON')\n",
    "j_norm_samps.to_file(os.path.join(data_fout, 'samples_buffered_normalised_3112'))"
   ]
  },
  {
   "cell_type": "code",
   "execution_count": null,
   "metadata": {},
   "outputs": [],
   "source": []
  }
 ],
 "metadata": {
  "kernelspec": {
   "display_name": "Python 3",
   "language": "python",
   "name": "python3"
  },
  "language_info": {
   "codemirror_mode": {
    "name": "ipython",
    "version": 3
   },
   "file_extension": ".py",
   "mimetype": "text/x-python",
   "name": "python",
   "nbconvert_exporter": "python",
   "pygments_lexer": "ipython3",
   "version": "3.6.8rc1"
  }
 },
 "nbformat": 4,
 "nbformat_minor": 2
}

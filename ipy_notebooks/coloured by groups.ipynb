{
 "cells": [
  {
   "cell_type": "code",
   "execution_count": 82,
   "metadata": {},
   "outputs": [],
   "source": [
    "%matplotlib notebook\n",
    "import matplotlib as mpl\n",
    "mpl.rcParams['figure.figsize'] = [8, 8]\n",
    "\n",
    "from faker import Factory\n",
    "from itertools import islice\n",
    "import geopandas as gpd\n",
    "import matplotlib.pyplot as plt\n",
    "import os\n",
    "import pandas as pd\n",
    "import pickle\n",
    "\n",
    "import pyodbc\n",
    "import pysal as ps\n",
    "\n",
    "from pysal.viz.mapclassify import Natural_Breaks as nb\n",
    "\n",
    "from math import log10\n",
    "from shapely.geometry import Point\n",
    "from shapely import wkt\n",
    "\n",
    "from IPython.display import IFrame\n",
    "\n",
    "import folium\n",
    "from folium.plugins import HeatMap\n",
    "\n",
    "fake = Factory.create()\n",
    "\n",
    "from pysal.viz.mapclassify import Natural_Breaks as nb\n",
    "import pandas as pd"
   ]
  },
  {
   "cell_type": "code",
   "execution_count": 62,
   "metadata": {},
   "outputs": [],
   "source": [
    "data_fout = os.path.join(os.path.dirname(os.getcwd()), 'data_out')\n",
    "\n",
    "with open(os.path.join(data_fout, 'samples_buffered_normalised_4283.pickle'), 'rb') as f:\n",
    "    samples = pickle.load(f)\n",
    "    \n",
    "with open(os.path.join(data_fout, 'buffers_4283.pickle'), 'rb') as f:\n",
    "    buffers = pickle.load(f)"
   ]
  },
  {
   "cell_type": "code",
   "execution_count": 64,
   "metadata": {},
   "outputs": [],
   "source": [
    "subbuffers = buffers.cx[141:142, -31:-33]\n",
    "subsamples = samples.cx[141:142, -31:-33]"
   ]
  },
  {
   "cell_type": "code",
   "execution_count": 69,
   "metadata": {},
   "outputs": [
    {
     "name": "stderr",
     "output_type": "stream",
     "text": [
      "c:\\users\\gatesk\\appdata\\local\\programs\\python\\python36\\lib\\site-packages\\geopandas\\io\\file.py:108: FionaDeprecationWarning: Use fiona.Env() instead.\n",
      "  with fiona.drivers():\n"
     ]
    }
   ],
   "source": [
    "# subbuffers.plot()\n",
    "subbuffers.to_file(os.path.join(data_fout, 'subbuffers.geojson'), driver ='GeoJSON')"
   ]
  },
  {
   "cell_type": "code",
   "execution_count": 71,
   "metadata": {},
   "outputs": [],
   "source": [
    "subsamples['Au_ppm_nml'].fillna(0, inplace=True)\n",
    "subsamples.to_file(os.path.join(data_fout, 'subsamples'))"
   ]
  },
  {
   "cell_type": "code",
   "execution_count": 74,
   "metadata": {},
   "outputs": [
    {
     "name": "stderr",
     "output_type": "stream",
     "text": [
      "c:\\users\\gatesk\\appdata\\local\\programs\\python\\python36\\lib\\site-packages\\ipykernel_launcher.py:29: SettingWithCopyWarning: \n",
      "A value is trying to be set on a copy of a slice from a DataFrame.\n",
      "Try using .loc[row_indexer,col_indexer] = value instead\n",
      "\n",
      "See the caveats in the documentation: http://pandas.pydata.org/pandas-docs/stable/indexing.html#indexing-view-versus-copy\n",
      "c:\\users\\gatesk\\appdata\\local\\programs\\python\\python36\\lib\\site-packages\\pandas\\core\\generic.py:5890: SettingWithCopyWarning: \n",
      "A value is trying to be set on a copy of a slice from a DataFrame\n",
      "\n",
      "See the caveats in the documentation: http://pandas.pydata.org/pandas-docs/stable/indexing.html#indexing-view-versus-copy\n",
      "  self._update_inplace(new_data)\n",
      "c:\\users\\gatesk\\appdata\\local\\programs\\python\\python36\\lib\\site-packages\\pysal\\viz\\mapclassify\\classifiers.py:1428: UserWarning: Warning: Not enough unique values in array to form k classes\n",
      "  Warn(ms, UserWarning)\n",
      "c:\\users\\gatesk\\appdata\\local\\programs\\python\\python36\\lib\\site-packages\\pysal\\viz\\mapclassify\\classifiers.py:1429: UserWarning: Warning: setting k to 6\n",
      "  Warn(\"Warning: setting k to %d\" % uvk, UserWarning)\n",
      "c:\\users\\gatesk\\appdata\\local\\programs\\python\\python36\\lib\\site-packages\\pysal\\viz\\mapclassify\\classifiers.py:1429: UserWarning: Warning: setting k to 2\n",
      "  Warn(\"Warning: setting k to %d\" % uvk, UserWarning)\n",
      "c:\\users\\gatesk\\appdata\\local\\programs\\python\\python36\\lib\\site-packages\\pysal\\viz\\mapclassify\\classifiers.py:1429: UserWarning: Warning: setting k to 9\n",
      "  Warn(\"Warning: setting k to %d\" % uvk, UserWarning)\n",
      "c:\\users\\gatesk\\appdata\\local\\programs\\python\\python36\\lib\\site-packages\\pysal\\viz\\mapclassify\\classifiers.py:1429: UserWarning: Warning: setting k to 3\n",
      "  Warn(\"Warning: setting k to %d\" % uvk, UserWarning)\n",
      "c:\\users\\gatesk\\appdata\\local\\programs\\python\\python36\\lib\\site-packages\\pysal\\viz\\mapclassify\\classifiers.py:1429: UserWarning: Warning: setting k to 4\n",
      "  Warn(\"Warning: setting k to %d\" % uvk, UserWarning)\n",
      "c:\\users\\gatesk\\appdata\\local\\programs\\python\\python36\\lib\\site-packages\\pysal\\viz\\mapclassify\\classifiers.py:1429: UserWarning: Warning: setting k to 5\n",
      "  Warn(\"Warning: setting k to %d\" % uvk, UserWarning)\n",
      "c:\\users\\gatesk\\appdata\\local\\programs\\python\\python36\\lib\\site-packages\\pysal\\viz\\mapclassify\\classifiers.py:1429: UserWarning: Warning: setting k to 7\n",
      "  Warn(\"Warning: setting k to %d\" % uvk, UserWarning)\n",
      "c:\\users\\gatesk\\appdata\\local\\programs\\python\\python36\\lib\\site-packages\\pysal\\viz\\mapclassify\\classifiers.py:1429: UserWarning: Warning: setting k to 1\n",
      "  Warn(\"Warning: setting k to %d\" % uvk, UserWarning)\n",
      "c:\\users\\gatesk\\appdata\\local\\programs\\python\\python36\\lib\\site-packages\\pysal\\viz\\mapclassify\\classifiers.py:704: RuntimeWarning: invalid value encountered in double_scalars\n",
      "  gadf = 1 - self.adcm / adam\n",
      "c:\\users\\gatesk\\appdata\\local\\programs\\python\\python36\\lib\\site-packages\\pysal\\viz\\mapclassify\\classifiers.py:1429: UserWarning: Warning: setting k to 8\n",
      "  Warn(\"Warning: setting k to %d\" % uvk, UserWarning)\n"
     ]
    }
   ],
   "source": [
    "colour_spectrum =['#DEEAF6','#CFE1F3','#B1CFED','#5EC8C2','#7FBB7F','#7EC067','#E68D3D','#DE5003','#C11C17','#A6358C']\n",
    "coloured = gpd.GeoDataFrame()\n",
    "element = 'Au_ppm_nml'\n",
    "\n",
    "for subset, samples in subsamples.groupby(['RIN', 'index']):\n",
    "        minv = samples[element].min()\n",
    "        samples[element].fillna(0, inplace=True)\n",
    "        \n",
    "        classifier = nb(samples['Au_ppm_nml'], 10)\n",
    "        samples['nat_breaks'] = samples['Au_ppm_nml'].apply(classifier)\n",
    "        \n",
    "        samples.nat_breaks.replace([0, 1, 2, 3, 4, 5, 6, 7, 8, 9], colour_spectrum, inplace=True)\n",
    "        \n",
    "        coloured = pd.DataFrame(pd.concat([coloured, samples], ignore_index=True))"
   ]
  },
  {
   "cell_type": "code",
   "execution_count": 81,
   "metadata": {},
   "outputs": [],
   "source": [
    "# element = 'Au_ppm_fn'\n",
    "\n",
    "# for subset, samples in subsamples.groupby(['RIN', 'index']):\n",
    "#     minv = samples[element].min()\n",
    "#     maxv = samples[element].max()\n",
    "#     mad = samples[element].mad()\n",
    "#     median = samples[element].median()\n",
    "#     mean = samples[element].mean()\n",
    "#     threshold = median + (mad+mad)\n",
    "#     thes2 = mean + (2*mad)\n",
    "#     try:\n",
    "#         print(subset, median.round(3), mean.round(3), mad.round(3), threshold.round(3), thes2.round(3))\n",
    "#     except:\n",
    "#         pass"
   ]
  },
  {
   "cell_type": "code",
   "execution_count": 80,
   "metadata": {},
   "outputs": [],
   "source": [
    "# element = 'Au_ppm_nml'\n",
    "# for subset, samples in subsamples.groupby(['RIN', 'index']):\n",
    "# #     if subset[0] == 'R00019368':\n",
    "#         minv = samples[element].min()\n",
    "#         maxv = samples[element].max()\n",
    "#         mad = samples[element].mad()\n",
    "#         median = samples[element].median()\n",
    "#         mean = samples[element].mean()\n",
    "#         threshold = median + (mad+mad)\n",
    "#         thes2 = mean + (mad)\n",
    "#         try:\n",
    "#             print(subset, median.round(3), mean.round(3), mad.round(3), threshold.round(3), thes2.round(3))\n",
    "#             samples[element].hist()\n",
    "#         except:\n",
    "#             pass"
   ]
  },
  {
   "cell_type": "code",
   "execution_count": 138,
   "metadata": {},
   "outputs": [
    {
     "name": "stderr",
     "output_type": "stream",
     "text": [
      "c:\\users\\gatesk\\appdata\\local\\programs\\python\\python36\\lib\\site-packages\\ipykernel_launcher.py:2: SettingWithCopyWarning: \n",
      "A value is trying to be set on a copy of a slice from a DataFrame.\n",
      "Try using .loc[row_indexer,col_indexer] = value instead\n",
      "\n",
      "See the caveats in the documentation: http://pandas.pydata.org/pandas-docs/stable/indexing.html#indexing-view-versus-copy\n",
      "  \n"
     ]
    }
   ],
   "source": [
    "# subsamples['Au_bins'] = pd.cut(subsamples.Au_ppm_nml, froms, labels=colours, include_lowest=True)"
   ]
  },
  {
   "cell_type": "code",
   "execution_count": 76,
   "metadata": {},
   "outputs": [],
   "source": [
    "# to geodataframe 4283\n",
    "coloured = gpd.GeoDataFrame(coloured)\n",
    "\n",
    "# Make geometry field wkt (Well Known Text)\n",
    "coloured['Coordinates'] = list(zip(coloured.LNG94.round(6), coloured.LAT94.round(6))) # Round to 6dp\n",
    "coloured['Coordinates'] = coloured['Coordinates'].apply(Point)\n",
    "coloured = gpd.GeoDataFrame(coloured, geometry='Coordinates', crs={'init' :'epsg:4283'})"
   ]
  },
  {
   "cell_type": "code",
   "execution_count": 77,
   "metadata": {},
   "outputs": [],
   "source": [
    "coloured.drop('Coordinates_4283', inplace=True, axis=1)"
   ]
  },
  {
   "cell_type": "code",
   "execution_count": 78,
   "metadata": {},
   "outputs": [],
   "source": [
    "# to geojson\n",
    "coloured.to_file(os.path.join(data_fout, 'coloured.geojson'), driver ='GeoJSON')"
   ]
  },
  {
   "cell_type": "code",
   "execution_count": 79,
   "metadata": {},
   "outputs": [],
   "source": [
    "# to pickle\n",
    "with open(os.path.join(data_fout, 'coloured.pickle'), 'wb') as f:\n",
    "    pickle.dump(coloured, f, pickle.HIGHEST_PROTOCOL)"
   ]
  },
  {
   "cell_type": "code",
   "execution_count": null,
   "metadata": {},
   "outputs": [],
   "source": []
  },
  {
   "cell_type": "code",
   "execution_count": null,
   "metadata": {},
   "outputs": [],
   "source": []
  },
  {
   "cell_type": "code",
   "execution_count": null,
   "metadata": {},
   "outputs": [],
   "source": []
  },
  {
   "cell_type": "code",
   "execution_count": null,
   "metadata": {},
   "outputs": [],
   "source": []
  },
  {
   "cell_type": "code",
   "execution_count": null,
   "metadata": {},
   "outputs": [],
   "source": []
  },
  {
   "cell_type": "code",
   "execution_count": null,
   "metadata": {},
   "outputs": [],
   "source": []
  }
 ],
 "metadata": {
  "kernelspec": {
   "display_name": "Python 3",
   "language": "python",
   "name": "python3"
  },
  "language_info": {
   "codemirror_mode": {
    "name": "ipython",
    "version": 3
   },
   "file_extension": ".py",
   "mimetype": "text/x-python",
   "name": "python",
   "nbconvert_exporter": "python",
   "pygments_lexer": "ipython3",
   "version": "3.6.8rc1"
  }
 },
 "nbformat": 4,
 "nbformat_minor": 2
}

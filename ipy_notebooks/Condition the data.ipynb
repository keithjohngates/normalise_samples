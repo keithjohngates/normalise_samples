{
 "cells": [
  {
   "cell_type": "code",
   "execution_count": null,
   "metadata": {},
   "outputs": [],
   "source": [
    "# LIMITED READ\n",
    "%matplotlib notebook\n",
    "import matplotlib as mpl\n",
    "mpl.rcParams['figure.figsize'] = [8, 8]\n",
    "\n",
    "import pyodbc\n",
    "import pandas as pd\n",
    "import geopandas as gpd\n",
    "import os\n",
    "import pickle\n",
    "from shapely.geometry import Point"
   ]
  },
  {
   "cell_type": "code",
   "execution_count": null,
   "metadata": {},
   "outputs": [],
   "source": [
    "conn = pyodbc.connect('DSN=GEODWH;UID=GEODWH_READ;PWD=readonly')\n",
    "\n",
    "ss_select = \"SELECT [RPT_ID],[RIN],[RPT_TYPE],[SAMPLEID],[SAMPCODE],[FILE_ID],[LAT94],[LNG94],[As_ppm],[Au_ppm] FROM [GEODWH].[dbo].[ASSAY_SURFSAMP_TRACE] WHERE SAMPCODE in ('SOIL', 'AUGER', 'SURF_DRILL', 'LAG', 'FLOAT', 'UNKNOWN','VEGETATION')\"\n",
    "dh_select = \"SELECT [RPT_ID],[RIN],[RPT_TYPE],[HOLEID] AS SAMPLEID,[DRILLCODE] AS SAMPCODE,[ASSAY_FILE_ID] AS FILEID,[LAT94],[LNG94],[As_ppm],[Au_ppm] FROM [GEODWH].[dbo].[ASSAY_MAX_DRILL_TRACE] WHERE DRILLCODE in ('AUGER', 'VAC', 'SURF_DRILL', 'VIB', 'AUG')\"\n",
    "confidence = \"SELECT [MR_AUTHOR], [MR_CONFIDENTIALITY],[MR_RECTYPE],[MR_REPYEAR],[MR_RIN] FROM [GEODWH].[dbo].[DG_MINREPS]\" #  where MR_RECTYPE = 'MINERAL'\n",
    "\n",
    "dsfolder = os.path.join(os.path.dirname(os.getcwd()), 'data_src')\n",
    "\n",
    "# NOTE: from ss: 'SOIL', 'AUGER', 'SURF_DRILL', 'LAG', 'FLOAT', 'UNKNOWN','VEGETATION'\n",
    "# NOTE: from dh: 'AUGER', 'VAC', 'SURF_DRILL', 'VIB', 'AUG'\n"
   ]
  },
  {
   "cell_type": "code",
   "execution_count": null,
   "metadata": {},
   "outputs": [],
   "source": [
    "# Read from the database\n",
    "dh = pd.read_sql(dh_select, conn)\n",
    "ss = pd.read_sql(ss_select, conn)\n",
    "rpt_confidence = pd.read_sql(confidence, conn)"
   ]
  },
  {
   "cell_type": "code",
   "execution_count": null,
   "metadata": {},
   "outputs": [],
   "source": [
    "# Fix the case insensitivity\n",
    "\n",
    "dh['SAMPCODE'].replace('AUG', 'AUGER', inplace=True) # Fix a namecase\n",
    "dh['SAMPCODE'].replace('Auger', 'AUGER', inplace=True) # Fix a namecase\n",
    "dh['SAMPCODE'].replace('auger', 'AUGER', inplace=True) # Fix a namecase\n",
    "\n",
    "dhtypes = dh['SAMPCODE'].unique()\n",
    "\n",
    "print(dhtypes)"
   ]
  },
  {
   "cell_type": "code",
   "execution_count": null,
   "metadata": {},
   "outputs": [],
   "source": [
    "# Fix the case insensitivity\n",
    "\n",
    "ss['SAMPCODE'] = ss['SAMPCODE'].map(lambda x: x.strip())# Fix some whitespaces\n",
    "ss['RIN'] = ss['RIN'].map(lambda x: x.strip())\n",
    "ss['RPT_TYPE'] = ss['RPT_TYPE'].map(lambda x: x.strip())\n",
    "ss['SAMPLEID'] = ss['SAMPLEID'].map(lambda x: x.strip())\n",
    "\n",
    "ss['SAMPCODE'].replace('Soil', 'SOIL', inplace=True)\n",
    "ss['SAMPCODE'].replace('soil', 'SOIL', inplace=True)\n",
    "\n",
    "sstypes = ss['SAMPCODE'].unique()\n",
    "print(sstypes)"
   ]
  },
  {
   "cell_type": "code",
   "execution_count": null,
   "metadata": {},
   "outputs": [],
   "source": [
    "# Combine the drilling with the surface samples\n",
    "samples = ss.append(dh)\n",
    "\n",
    "# Check unique sample codes\n",
    "stypes = samples['SAMPCODE'].unique()\n",
    "stypes.sort()\n",
    "\n",
    "print(f'Sample types: {stypes}')\n",
    "print(len(samples))"
   ]
  },
  {
   "cell_type": "code",
   "execution_count": null,
   "metadata": {},
   "outputs": [],
   "source": [
    "samples_m = pd.merge(samples, rpt_confidence, how='inner', left_on='RIN', right_on='MR_RIN', left_index=False, right_index=False)\n",
    "\n",
    "samples_m.drop(['MR_RIN'], inplace=True, axis=1)\n",
    "samples_m.drop(['MR_RECTYPE'], inplace=True, axis=1)"
   ]
  },
  {
   "cell_type": "code",
   "execution_count": null,
   "metadata": {},
   "outputs": [],
   "source": [
    "len(samples_m)"
   ]
  },
  {
   "cell_type": "code",
   "execution_count": null,
   "metadata": {},
   "outputs": [],
   "source": [
    "from pyproj import Proj\n",
    "from pyproj import transform\n",
    "\n",
    "geographic = Proj(init='epsg:4283')\n",
    "projected = Proj(init='epsg:3112')\n",
    "\n",
    "def lat(coords):\n",
    "    E, N = transform(geographic, projected, coords[1], coords[0])\n",
    "    return E\n",
    "\n",
    "def lon(coords):\n",
    "    E, N = transform(geographic, projected, coords[1], coords[0])\n",
    "    return N"
   ]
  },
  {
   "cell_type": "code",
   "execution_count": null,
   "metadata": {},
   "outputs": [],
   "source": [
    "samples['EASTING'] = samples.apply(lambda x: lat((x['LAT94'], x['LNG94'])), axis=1)\n",
    "samples['NORTHING'] = samples.apply(lambda x: lon((x['LAT94'], x['LNG94'])), axis=1)"
   ]
  },
  {
   "cell_type": "code",
   "execution_count": null,
   "metadata": {},
   "outputs": [],
   "source": [
    "# Make geometry field wkt (Well Known Text)\n",
    "samples['Coordinates'] = list(zip(samples.EASTING, samples.NORTHING)) # Round to 6dp\n",
    "samples['Coordinates'] = samples['Coordinates'].apply(Point)\n",
    "samples = gpd.GeoDataFrame(samples, geometry='Coordinates', crs={'init' :'epsg:3112'})\n",
    "\n",
    "samples.head()"
   ]
  },
  {
   "cell_type": "code",
   "execution_count": null,
   "metadata": {},
   "outputs": [],
   "source": [
    "# Pickle them up for next time\n",
    "\n",
    "with open(os.path.join(dsfolder, 'dh.pickle'), 'wb') as f:\n",
    "    pickle.dump(dh, f, pickle.HIGHEST_PROTOCOL)\n",
    "    \n",
    "with open(os.path.join(dsfolder, 'ss.pickle'), 'wb') as f:\n",
    "    pickle.dump(ss, f, pickle.HIGHEST_PROTOCOL)\n",
    "\n",
    "with open(os.path.join(dsfolder, 'rpt_confidence.pickle'), 'wb') as f:\n",
    "    pickle.dump(rpt_confidence, f, pickle.HIGHEST_PROTOCOL)\n",
    "\n",
    "with open(os.path.join(dsfolder, 'samples_conditioned.pickle'), 'wb') as f:\n",
    "    pickle.dump(samples, f, pickle.HIGHEST_PROTOCOL)"
   ]
  },
  {
   "cell_type": "code",
   "execution_count": null,
   "metadata": {},
   "outputs": [],
   "source": [
    "# # Read the pickles\n",
    "\n",
    "with open(os.path.join(dsfolder, 'samples_conditioned.pickle'), 'rb') as f:\n",
    "    samps = pickle.load(f)\n",
    "    \n",
    "# with open(os.path.join(dsfolder, 'drillholes.pickle'), 'rb') as fin:\n",
    "#     dh = pickle.load(fin)\n",
    "    \n",
    "# with open(os.path.join(dsfolder, 'ss.pickle'), 'rb') as fin:\n",
    "#     ss = pickle.load(fin)\n",
    "    \n",
    "# with open(os.path.join(dsfolder, 'rpt_confidence.pickle'), 'rb') as fin:\n",
    "#     rpt_confidence = pickle.load(fin)\n",
    "\n"
   ]
  },
  {
   "cell_type": "code",
   "execution_count": null,
   "metadata": {},
   "outputs": [],
   "source": [
    "print(len(samps))"
   ]
  },
  {
   "cell_type": "code",
   "execution_count": null,
   "metadata": {},
   "outputs": [],
   "source": [
    "samps.head()"
   ]
  },
  {
   "cell_type": "code",
   "execution_count": null,
   "metadata": {},
   "outputs": [],
   "source": [
    "sampe[0:10000].plot()"
   ]
  }
 ],
 "metadata": {
  "kernelspec": {
   "display_name": "Python 3",
   "language": "python",
   "name": "python3"
  },
  "language_info": {
   "codemirror_mode": {
    "name": "ipython",
    "version": 3
   },
   "file_extension": ".py",
   "mimetype": "text/x-python",
   "name": "python",
   "nbconvert_exporter": "python",
   "pygments_lexer": "ipython3",
   "version": "3.6.8rc1"
  }
 },
 "nbformat": 4,
 "nbformat_minor": 2
}

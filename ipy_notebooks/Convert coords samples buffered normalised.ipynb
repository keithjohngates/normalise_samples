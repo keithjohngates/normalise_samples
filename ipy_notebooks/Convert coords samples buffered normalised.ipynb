{
 "cells": [
  {
   "cell_type": "code",
   "execution_count": 13,
   "metadata": {},
   "outputs": [],
   "source": [
    "%matplotlib notebook\n",
    "import matplotlib as mpl\n",
    "mpl.rcParams['figure.figsize'] = [8, 8]\n",
    "\n",
    "import os\n",
    "import pickle\n",
    "import pandas as pd\n",
    "import geopandas as gpd\n",
    "import numpy as np\n",
    "\n",
    "data_fout = os.path.join(os.path.dirname(os.getcwd()), 'data_out')"
   ]
  },
  {
   "cell_type": "code",
   "execution_count": 14,
   "metadata": {},
   "outputs": [
    {
     "name": "stdout",
     "output_type": "stream",
     "text": [
      "0\n",
      "1\n",
      "2\n",
      "3\n",
      "4\n",
      "5\n",
      "6\n",
      "7\n"
     ]
    }
   ],
   "source": [
    "chunks = 8\n",
    "chunked_samples = []\n",
    "\n",
    "for c in range(chunks):\n",
    "    print(c)\n",
    "    with open(os.path.join(data_fout, 'samples_buffered_normalised_%d.pickle' % c), 'rb') as f:\n",
    "        samps = pickle.load(f)\n",
    "        chunked_samples.append((samps, c))"
   ]
  },
  {
   "cell_type": "code",
   "execution_count": 7,
   "metadata": {},
   "outputs": [
    {
     "data": {
      "text/plain": [
       "['index',\n",
       " 'As_ppm',\n",
       " 'Au_ppm',\n",
       " 'FILEID',\n",
       " 'FILE_ID',\n",
       " 'LAT94',\n",
       " 'LNG94',\n",
       " 'RIN',\n",
       " 'RPT_ID',\n",
       " 'RPT_TYPE',\n",
       " 'SAMPCODE',\n",
       " 'SAMPLEID',\n",
       " 'MR_AUTHOR',\n",
       " 'MR_CONFIDENTIALITY',\n",
       " 'MR_REPYEAR',\n",
       " 'EASTING',\n",
       " 'NORTHING',\n",
       " 'Au_ppm_nn',\n",
       " 'Au_ppm_fn',\n",
       " 'Au_ppm_log',\n",
       " 'Au_ppm_nml',\n",
       " 'As_ppm_nn',\n",
       " 'As_ppm_fn',\n",
       " 'As_ppm_log',\n",
       " 'As_ppm_nml']"
      ]
     },
     "execution_count": 7,
     "metadata": {},
     "output_type": "execute_result"
    }
   ],
   "source": [
    "list(chunked_samples[0][0])"
   ]
  },
  {
   "cell_type": "code",
   "execution_count": 15,
   "metadata": {},
   "outputs": [
    {
     "name": "stdout",
     "output_type": "stream",
     "text": [
      "[None, None, None, None, None, None, None, None]\n"
     ]
    }
   ],
   "source": [
    "from multiprocessing import Pool\n",
    "from coordinate_conversion_worker_helper import coordinate_conversion_args_helper_4283\n",
    "\n",
    "num_processors = 8\n",
    "p=Pool(processes = num_processors)\n",
    "output = p.map(coordinate_conversion_args_helper_4283, chunked_samples)\n",
    "print(output)"
   ]
  },
  {
   "cell_type": "code",
   "execution_count": 16,
   "metadata": {},
   "outputs": [
    {
     "name": "stdout",
     "output_type": "stream",
     "text": [
      "[None, None, None, None, None, None, None, None]\n"
     ]
    }
   ],
   "source": [
    "from multiprocessing import Pool\n",
    "from coordinate_conversion_worker_helper import coordinate_conversion_args_helper_3112\n",
    "\n",
    "num_processors = 8\n",
    "p=Pool(processes = num_processors)\n",
    "output = p.map(coordinate_conversion_args_helper_3112, chunked_samples)\n",
    "print(output)"
   ]
  },
  {
   "cell_type": "markdown",
   "metadata": {},
   "source": []
  }
 ],
 "metadata": {
  "kernelspec": {
   "display_name": "Python 3",
   "language": "python",
   "name": "python3"
  },
  "language_info": {
   "codemirror_mode": {
    "name": "ipython",
    "version": 3
   },
   "file_extension": ".py",
   "mimetype": "text/x-python",
   "name": "python",
   "nbconvert_exporter": "python",
   "pygments_lexer": "ipython3",
   "version": "3.6.8rc1"
  }
 },
 "nbformat": 4,
 "nbformat_minor": 2
}

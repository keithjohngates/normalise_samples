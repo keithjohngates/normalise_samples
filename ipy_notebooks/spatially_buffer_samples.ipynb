{
 "cells": [
  {
   "cell_type": "code",
   "execution_count": 1,
   "metadata": {},
   "outputs": [],
   "source": [
    "%matplotlib notebook\n",
    "import matplotlib as mpl\n",
    "mpl.rcParams['figure.figsize'] = [8, 8]\n",
    "\n",
    "import os\n",
    "import pickle\n",
    "import helper\n",
    "import numpy as np\n",
    "\n",
    "import pandas as pd\n",
    "import geopandas as gpd\n",
    "import spatial_worker\n",
    "\n",
    "dsfolder = os.path.join(os.path.dirname(os.getcwd()), 'data_src')"
   ]
  },
  {
   "cell_type": "code",
   "execution_count": 2,
   "metadata": {},
   "outputs": [
    {
     "name": "stdout",
     "output_type": "stream",
     "text": [
      "645645\n",
      "314824\n"
     ]
    }
   ],
   "source": [
    "with open(os.path.join(dsfolder, 'samples_conditioned.pickle'), 'rb') as f:\n",
    "    samps = pickle.load(f)\n",
    "print(len(samps))\n",
    "\n",
    "# Let's work with just the openfile data for now\n",
    "samps_o = samps[samps['MR_CONFIDENTIALITY'] == 'O']\n",
    "print(len(samps_o))"
   ]
  },
  {
   "cell_type": "code",
   "execution_count": 9,
   "metadata": {},
   "outputs": [
    {
     "name": "stdout",
     "output_type": "stream",
     "text": [
      "Chunk has 80 rins\n",
      "<pandas.core.groupby.groupby.DataFrameGroupBy object at 0x000002286251D748>\n",
      "0\n",
      "Chunk has 80 rins\n",
      "<pandas.core.groupby.groupby.DataFrameGroupBy object at 0x0000022862521518>\n",
      "1\n",
      "Chunk has 80 rins\n",
      "<pandas.core.groupby.groupby.DataFrameGroupBy object at 0x0000022862524CF8>\n",
      "2\n",
      "Chunk has 80 rins\n",
      "<pandas.core.groupby.groupby.DataFrameGroupBy object at 0x000002286252ACF8>\n",
      "3\n",
      "Chunk has 80 rins\n",
      "<pandas.core.groupby.groupby.DataFrameGroupBy object at 0x0000022862528AC8>\n",
      "4\n",
      "Chunk has 79 rins\n",
      "<pandas.core.groupby.groupby.DataFrameGroupBy object at 0x00000228625289E8>\n",
      "5\n",
      "Chunk has 79 rins\n",
      "<pandas.core.groupby.groupby.DataFrameGroupBy object at 0x0000022862526828>\n",
      "6\n",
      "Chunk has 79 rins\n",
      "<pandas.core.groupby.groupby.DataFrameGroupBy object at 0x0000022860E04198>\n",
      "7\n"
     ]
    }
   ],
   "source": [
    "# Divide the data into chunks based on rins\n",
    "\n",
    "rin_list = samps_o['RIN'].unique()\n",
    "\n",
    "chunks = 8\n",
    "split_rins = np.array_split(rin_list, chunks)\n",
    "\n",
    "chunked_samples = []\n",
    "\n",
    "for c in range(chunks):\n",
    "    sample_chunk = samps_o[samps_o['RIN'].isin(split_rins[c])]\n",
    "    grpby_sample_sub = sample_chunk.groupby(['RIN'])\n",
    "    chunked_samples.append((grpby_sample_sub, c))\n",
    "    print(\"Chunk has %d rins\" % len(grpby_sample_sub))\n",
    "    print(grpby_sample_sub)\n",
    "    print(c)"
   ]
  },
  {
   "cell_type": "code",
   "execution_count": null,
   "metadata": {},
   "outputs": [],
   "source": [
    "from multiprocessing import Pool\n",
    "from spatial_worker_helper import multi_args_helper\n",
    "\n",
    "# data = [(grpby_sample_sub_0, '0'),\n",
    "#         (grpby_sample_sub_1, '1'),\n",
    "#         (grpby_sample_sub_2, '2'),\n",
    "#         (grpby_sample_sub_3, '3'),\n",
    "#         (grpby_sample_sub_4, '4'),\n",
    "#         (grpby_sample_sub_5, '5'),\n",
    "#         (grpby_sample_sub_6, '6'),\n",
    "#         (grpby_sample_sub_7, '7')\n",
    "#        ]\n",
    "\n",
    "# if __name__ ==  '__main__': \n",
    "num_processors = 8\n",
    "p=Pool(processes = num_processors)\n",
    "output = p.map(multi_args_helper, chunked_samples)\n",
    "print(output)"
   ]
  },
  {
   "cell_type": "code",
   "execution_count": null,
   "metadata": {},
   "outputs": [],
   "source": []
  },
  {
   "cell_type": "code",
   "execution_count": null,
   "metadata": {},
   "outputs": [],
   "source": []
  },
  {
   "cell_type": "code",
   "execution_count": null,
   "metadata": {},
   "outputs": [],
   "source": []
  },
  {
   "cell_type": "code",
   "execution_count": null,
   "metadata": {},
   "outputs": [],
   "source": []
  },
  {
   "cell_type": "code",
   "execution_count": null,
   "metadata": {},
   "outputs": [],
   "source": []
  }
 ],
 "metadata": {
  "kernelspec": {
   "display_name": "Python 3",
   "language": "python",
   "name": "python3"
  },
  "language_info": {
   "codemirror_mode": {
    "name": "ipython",
    "version": 3
   },
   "file_extension": ".py",
   "mimetype": "text/x-python",
   "name": "python",
   "nbconvert_exporter": "python",
   "pygments_lexer": "ipython3",
   "version": "3.6.8rc1"
  },
  "stem_cell": {
   "cell_type": "raw",
   "metadata": {
    "pycharm": {
     "metadata": false
    }
   },
   "source": ""
  }
 },
 "nbformat": 4,
 "nbformat_minor": 1
}

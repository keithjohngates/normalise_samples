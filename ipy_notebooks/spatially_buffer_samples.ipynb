{
 "cells": [
  {
   "cell_type": "code",
   "execution_count": 19,
   "metadata": {},
   "outputs": [],
   "source": [
    "%matplotlib notebook\n",
    "import matplotlib as mpl\n",
    "mpl.rcParams['figure.figsize'] = [8, 8]\n",
    "\n",
    "import os\n",
    "import pickle\n",
    "import spatial_helper\n",
    "import numpy as np\n",
    "\n",
    "import pandas as pd\n",
    "import geopandas as gpd\n",
    "import spatial_worker\n",
    "\n",
    "data_src = os.path.join(os.path.dirname(os.getcwd()), 'data_src')\n",
    "data_out = os.path.join(os.path.dirname(os.getcwd()), 'data_out')"
   ]
  },
  {
   "cell_type": "code",
   "execution_count": 20,
   "metadata": {},
   "outputs": [
    {
     "name": "stdout",
     "output_type": "stream",
     "text": [
      "645645\n",
      "314824\n"
     ]
    }
   ],
   "source": [
    "with open(os.path.join(data_src, 'samples_conditioned.pickle'), 'rb') as f:\n",
    "    samps = pickle.load(f)\n",
    "print(len(samps))\n",
    "\n",
    "# Let's work with just the openfile data for now\n",
    "samps_o = samps[samps['MR_CONFIDENTIALITY'] == 'O']\n",
    "print(len(samps_o))"
   ]
  },
  {
   "cell_type": "code",
   "execution_count": 21,
   "metadata": {},
   "outputs": [
    {
     "name": "stdout",
     "output_type": "stream",
     "text": [
      "Chunk has 80 rins\n",
      "<pandas.core.groupby.groupby.DataFrameGroupBy object at 0x00000282967DEDD8>\n",
      "0\n",
      "Chunk has 80 rins\n",
      "<pandas.core.groupby.groupby.DataFrameGroupBy object at 0x00000282967DE978>\n",
      "1\n",
      "Chunk has 80 rins\n",
      "<pandas.core.groupby.groupby.DataFrameGroupBy object at 0x00000282967D9278>\n",
      "2\n",
      "Chunk has 80 rins\n",
      "<pandas.core.groupby.groupby.DataFrameGroupBy object at 0x00000282967DEA58>\n",
      "3\n",
      "Chunk has 80 rins\n",
      "<pandas.core.groupby.groupby.DataFrameGroupBy object at 0x00000282967CD518>\n",
      "4\n",
      "Chunk has 79 rins\n",
      "<pandas.core.groupby.groupby.DataFrameGroupBy object at 0x00000282EA919438>\n",
      "5\n",
      "Chunk has 79 rins\n",
      "<pandas.core.groupby.groupby.DataFrameGroupBy object at 0x00000282967C2908>\n",
      "6\n",
      "Chunk has 79 rins\n",
      "<pandas.core.groupby.groupby.DataFrameGroupBy object at 0x0000028296753C18>\n",
      "7\n"
     ]
    }
   ],
   "source": [
    "# Divide the data into chunks based on rins\n",
    "\n",
    "rin_list = samps_o['RIN'].unique()\n",
    "\n",
    "chunks = 8\n",
    "split_rins = np.array_split(rin_list, chunks)\n",
    "\n",
    "chunked_samples = []\n",
    "\n",
    "for c in range(chunks):\n",
    "    sample_chunk = samps_o[samps_o['RIN'].isin(split_rins[c])]\n",
    "    grpby_sample_sub = sample_chunk.groupby(['RIN'])\n",
    "    chunked_samples.append((grpby_sample_sub, c))\n",
    "    print(\"Chunk has %d rins\" % len(grpby_sample_sub))\n",
    "    print(grpby_sample_sub)\n",
    "    print(c)"
   ]
  },
  {
   "cell_type": "code",
   "execution_count": 22,
   "metadata": {},
   "outputs": [
    {
     "name": "stdout",
     "output_type": "stream",
     "text": [
      "[None, None, None, None, None, None, None, None]\n"
     ]
    }
   ],
   "source": [
    "from multiprocessing import Pool\n",
    "from spatial_worker_helper import spatial_args_helper\n",
    "\n",
    "num_processors = 8\n",
    "p=Pool(processes = num_processors)\n",
    "output = p.map(spatial_args_helper, chunked_samples)\n",
    "print(output)"
   ]
  },
  {
   "cell_type": "code",
   "execution_count": null,
   "metadata": {},
   "outputs": [],
   "source": []
  },
  {
   "cell_type": "code",
   "execution_count": null,
   "metadata": {},
   "outputs": [],
   "source": []
  },
  {
   "cell_type": "code",
   "execution_count": null,
   "metadata": {},
   "outputs": [],
   "source": []
  },
  {
   "cell_type": "code",
   "execution_count": null,
   "metadata": {},
   "outputs": [],
   "source": []
  },
  {
   "cell_type": "code",
   "execution_count": null,
   "metadata": {},
   "outputs": [],
   "source": []
  }
 ],
 "metadata": {
  "kernelspec": {
   "display_name": "Python 3",
   "language": "python",
   "name": "python3"
  },
  "language_info": {
   "codemirror_mode": {
    "name": "ipython",
    "version": 3
   },
   "file_extension": ".py",
   "mimetype": "text/x-python",
   "name": "python",
   "nbconvert_exporter": "python",
   "pygments_lexer": "ipython3",
   "version": "3.6.8rc1"
  },
  "stem_cell": {
   "cell_type": "raw",
   "metadata": {
    "pycharm": {
     "metadata": false
    }
   },
   "source": ""
  }
 },
 "nbformat": 4,
 "nbformat_minor": 1
}

{
 "cells": [
  {
   "cell_type": "code",
   "execution_count": 55,
   "metadata": {},
   "outputs": [],
   "source": [
    "%matplotlib notebook\n",
    "import matplotlib as mpl\n",
    "mpl.rcParams['figure.figsize'] = [8, 8]\n",
    "\n",
    "import os\n",
    "import pickle\n",
    "import pandas as pd\n",
    "import geopandas as gpd\n",
    "import folium\n",
    "\n",
    "data_fout = os.path.join(os.path.dirname(os.getcwd()), 'data_out')"
   ]
  },
  {
   "cell_type": "code",
   "execution_count": 2,
   "metadata": {},
   "outputs": [
    {
     "name": "stdout",
     "output_type": "stream",
     "text": [
      "0\n",
      "1\n",
      "2\n",
      "3\n",
      "4\n",
      "5\n",
      "6\n",
      "7\n",
      "1049\n"
     ]
    },
    {
     "name": "stderr",
     "output_type": "stream",
     "text": [
      "c:\\users\\gatesk\\appdata\\local\\programs\\python\\python36\\lib\\site-packages\\geopandas\\io\\file.py:108: FionaDeprecationWarning: Use fiona.Env() instead.\n",
      "  with fiona.drivers():\n"
     ]
    }
   ],
   "source": [
    "joined_buffers = gpd.GeoDataFrame()\n",
    "\n",
    "for i in range(8):\n",
    "    print(i)\n",
    "    with open(os.path.join(data_fout, 'buffers_%d.pickle' % i), 'rb') as f:\n",
    "        buffers = pickle.load(f)\n",
    "        joined_buffers = gpd.GeoDataFrame(pd.concat([joined_buffers, buffers], ignore_index=True))\n",
    "        \n",
    "print(len(joined_buffers))\n",
    "\n",
    "joined_buffers.crs = {'init' :'epsg:3112'}\n",
    "\n",
    "# FORGET ABOUT THE 3112 for now\n",
    "# with open(os.path.join(data_fout, 'buffers_3112.pickle'), 'wb') as f:\n",
    "#     pickle.dump(joined_buffers, f, pickle.HIGHEST_PROTOCOL) \n",
    "    \n",
    "# joined_buffers.to_file(os.path.join(data_fout, 'buffers_3112.geojson'), driver='GeoJSON')\n",
    "# joined_buffers.to_file(os.path.join(data_fout, 'buffers_3112'))\n",
    "\n",
    "joined_buffers_4283 = joined_buffers.to_crs(epsg=4283)\n",
    "\n",
    "with open(os.path.join(data_fout, 'buffers_4283.pickle'), 'wb') as f:\n",
    "    pickle.dump(joined_buffers_4283, f, pickle.HIGHEST_PROTOCOL) \n",
    "    \n",
    "joined_buffers_4283.to_file(os.path.join(data_fout, 'buffers_4283.geojson'), driver='GeoJSON')\n",
    "joined_buffers_4283.to_file(os.path.join(data_fout, 'buffers_4283'))\n"
   ]
  },
  {
   "cell_type": "code",
   "execution_count": null,
   "metadata": {},
   "outputs": [],
   "source": []
  },
  {
   "cell_type": "code",
   "execution_count": null,
   "metadata": {},
   "outputs": [],
   "source": []
  },
  {
   "cell_type": "code",
   "execution_count": null,
   "metadata": {},
   "outputs": [],
   "source": []
  },
  {
   "cell_type": "code",
   "execution_count": null,
   "metadata": {},
   "outputs": [],
   "source": []
  },
  {
   "cell_type": "code",
   "execution_count": 47,
   "metadata": {},
   "outputs": [],
   "source": []
  },
  {
   "cell_type": "code",
   "execution_count": null,
   "metadata": {},
   "outputs": [],
   "source": []
  },
  {
   "cell_type": "code",
   "execution_count": null,
   "metadata": {},
   "outputs": [],
   "source": []
  },
  {
   "cell_type": "code",
   "execution_count": null,
   "metadata": {},
   "outputs": [],
   "source": []
  },
  {
   "cell_type": "code",
   "execution_count": null,
   "metadata": {},
   "outputs": [],
   "source": []
  },
  {
   "cell_type": "code",
   "execution_count": 64,
   "metadata": {},
   "outputs": [],
   "source": []
  },
  {
   "cell_type": "code",
   "execution_count": 65,
   "metadata": {},
   "outputs": [],
   "source": []
  },
  {
   "cell_type": "code",
   "execution_count": null,
   "metadata": {},
   "outputs": [],
   "source": []
  },
  {
   "cell_type": "code",
   "execution_count": 6,
   "metadata": {},
   "outputs": [],
   "source": []
  }
 ],
 "metadata": {
  "kernelspec": {
   "display_name": "Python 3",
   "language": "python",
   "name": "python3"
  },
  "language_info": {
   "codemirror_mode": {
    "name": "ipython",
    "version": 3
   },
   "file_extension": ".py",
   "mimetype": "text/x-python",
   "name": "python",
   "nbconvert_exporter": "python",
   "pygments_lexer": "ipython3",
   "version": "3.6.8rc1"
  }
 },
 "nbformat": 4,
 "nbformat_minor": 2
}
